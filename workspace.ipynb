{
 "cells": [
  {
   "cell_type": "code",
   "execution_count": 1,
   "metadata": {},
   "outputs": [
    {
     "name": "stderr",
     "output_type": "stream",
     "text": [
      "/opt/conda/envs/ptca/lib/python3.8/site-packages/tqdm/auto.py:21: TqdmWarning: IProgress not found. Please update jupyter and ipywidgets. See https://ipywidgets.readthedocs.io/en/stable/user_install.html\n",
      "  from .autonotebook import tqdm as notebook_tqdm\n"
     ]
    }
   ],
   "source": [
    "import os\n",
    "import h5py\n",
    "import json\n",
    "import numpy as np\n",
    "from tqdm.auto import tqdm\n",
    "from numba.typed import Dict, List\n",
    "from numba import types\n",
    "from transformers import (\n",
    "    BertTokenizer\n",
    ")"
   ]
  },
  {
   "cell_type": "code",
   "execution_count": 3,
   "metadata": {},
   "outputs": [],
   "source": [
    "with open(\"/datacosmos/local/User/baoht/onesparse2/hybridsearch/bm25/index/marco/index_dist.json\") as f:\n",
    "    bm25_en_dist = json.load(f)"
   ]
  },
  {
   "cell_type": "code",
   "execution_count": 12,
   "metadata": {},
   "outputs": [],
   "source": [
    "bm25_en_dist = dict(sorted(bm25_en_dist.items(), key=lambda item: int(item[0])))"
   ]
  },
  {
   "cell_type": "code",
   "execution_count": 15,
   "metadata": {},
   "outputs": [],
   "source": [
    "dict_temp = {}\n",
    "for k, v in bm25_en_dist.items():\n",
    "    dict_temp[int(k)] = v\n",
    "dict_temp = dict(sorted(dict_temp.items(), key=lambda item: item[0]))"
   ]
  },
  {
   "cell_type": "code",
   "execution_count": 18,
   "metadata": {},
   "outputs": [
    {
     "data": {
      "text/plain": [
       "27647"
      ]
     },
     "execution_count": 18,
     "metadata": {},
     "output_type": "execute_result"
    }
   ],
   "source": [
    "len(dict_temp.keys())"
   ]
  },
  {
   "cell_type": "code",
   "execution_count": null,
   "metadata": {},
   "outputs": [],
   "source": [
    "ids1 = [101, 102, 87200, 10310, 25265, 11325, 35166, 166, 35176, 11240, 36379, 12972, 11134, 12792, 27489, 113, 11418, 114, 102, 24432, 119, 10241, 131, 87200, 10310, 25265, 11325, 35166, 166, 35176, 11240, 36379, 12972, 11134, 12792, 27489, 113, 11418, 114, 131, 13374, 111, 43163, 10107, 13374, 111, 43163, 10107, 1284, 38632, 111, 34969, 1284, 29268, 1284, 10305, 26494, 1284, 10305, 26494, 12985, 10107, 111, 41851, 1284, 10305, 26494, 12985, 10107, 14924, 10155, 40504, 37822, 10301, 119, 11312, 11530, 112, 162, 16332, 10704, 10362, 11526, 10372, 38863, 11229, 10346, 11677, 10104, 16913, 119, 16653, 10323, 16117, 10114, 65068, 10104, 87200, 10310, 25265, 11325, 35166, 166, 35176, 11240, 36379, 12972, 11134, 12792, 27489, 113, 11418, 114, 17514, 131, 87200, 10310, 11601, 39332, 170, 10200, 42942, 10390, 22467, 14924, 10155, 40504, 102]\n",
    "ids2 = [101, 102, 87200, 10310, 25265, 11325, 35166, 166, 35176, 11240, 36379, 12972, 11134, 12792, 27489, 113, 11418, 114, 102, 24432, 119, 10241, 131, 87200, 10310, 25265, 11325, 35166, 166, 35176, 11240, 36379, 12972, 11134, 12792, 27489, 113, 11418, 114, 131, 13374, 111, 43163, 10107, 13374, 111, 43163, 10107, 1284, 38632, 111, 34969, 1284, 29268, 1284, 10305, 26494, 1284, 10305, 26494, 12985, 10107, 111, 41851, 1284, 10305, 26494, 12985, 10107, 14924, 10155, 40504, 37822, 10301, 119, 11312, 11530, 112, 162, 16332, 10704, 10362, 11526, 10372, 38863, 11229, 10346, 11677, 10104, 16913, 119, 16653, 10323, 16117, 10114, 65068, 10104, 87200, 10310, 25265, 11325, 35166, 166, 35176, 11240, 36379, 12972, 11134, 12792, 27489, 113, 11418, 114, 17514, 131, 87200, 10310, 11601, 39332, 170, 10200, 42942, 10390, 22467, 14924, 10155, 40504, 102]\n",
    "\n",
    "ids0 = [101, 102, 87200, 10310, 25265, 11325, 35166, 166, 35176, 11240, 36379, 12972, 11134, 12792, 27489, 113, 11418, 114, 102, 24432, 119, 10241, 131, 87200, 10310, 25265, 11325, 35166, 166, 35176, 11240, 36379, 12972, 11134, 12792, 27489, 113, 11418, 114, 131, 13374, 111, 43163, 10107, 13374, 111, 43163, 10107, 1284, 38632, 111, 34969, 1284, 29268, 1284, 10305, 26494, 1284, 10305, 26494, 12985, 10107, 111, 41851, 1284, 10305, 26494, 12985, 10107, 14924, 10155, 40504, 37822, 10301, 119, 11312, 11530, 112, 162, 16332, 10704, 10362, 11526, 10372, 38863, 11229, 10346, 11677, 10104, 16913, 119, 16653, 10323, 16117, 10114, 65068, 10104, 87200, 10310, 25265, 11325, 35166, 166, 35176, 11240, 36379, 12972, 11134, 12792, 27489, 113, 11418, 114, 17514, 131, 87200, 10310, 11601, 39332, 170, 10200, 42942, 10390, 22467, 14924, 10155, 40504, 102]"
   ]
  }
 ],
 "metadata": {
  "kernelspec": {
   "display_name": "ptca",
   "language": "python",
   "name": "python3"
  },
  "language_info": {
   "codemirror_mode": {
    "name": "ipython",
    "version": 3
   },
   "file_extension": ".py",
   "mimetype": "text/x-python",
   "name": "python",
   "nbconvert_exporter": "python",
   "pygments_lexer": "ipython3",
   "version": "3.8.13"
  }
 },
 "nbformat": 4,
 "nbformat_minor": 2
}
